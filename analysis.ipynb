{
 "cells": [
  {
   "cell_type": "markdown",
   "metadata": {},
   "source": [
    "## Analysis\n",
    "\n",
    "You will need to install both `networkx` (using `pip`) and `matplotlib` (see <http://matplotlib.org/users/installing.html> for installation instructions)"
   ]
  },
  {
   "cell_type": "code",
   "execution_count": null,
   "metadata": {
    "collapsed": true
   },
   "outputs": [],
   "source": [
    "import networkx as nx\n",
    "from SPARQLWrapper import SPARQLWrapper, JSON\n",
    "import requests\n",
    "import matplotlib.pyplot as plt\n",
    "from rdflib import ConjunctiveGraph\n",
    "%matplotlib inline  "
   ]
  },
  {
   "cell_type": "code",
   "execution_count": null,
   "metadata": {
    "collapsed": true
   },
   "outputs": [],
   "source": [
    "prefix = \"PREFIX : <http://data.krw.d2s.labs.vu.nl/group20/vocab/>\"\n",
    "TUTORIAL_REPOSITORY = \"http://stardog.krw.d2s.labs.vu.nl/group20\"\n",
    "endpoint = TUTORIAL_REPOSITORY + \"/query\""
   ]
  },
  {
   "cell_type": "code",
   "execution_count": null,
   "metadata": {
    "collapsed": false
   },
   "outputs": [],
   "source": [
    "def clearStardog():\n",
    "    \"\"\"Careful! This one clears the entire stardog repository specified in TUTORIAL_REPOSITORY\"\"\"\n",
    "    transaction_begin_url = TUTORIAL_REPOSITORY + \"/transaction/begin\"\n",
    "    \n",
    "    # Start the transaction, and get a transaction_id\n",
    "    response = requests.post(transaction_begin_url, headers={'Accept': 'text/plain'})\n",
    "    transaction_id = response.content\n",
    "\n",
    "    print \"Transaction id: {}\".format(transaction_id)\n",
    "    # POST the data to the transaction\n",
    "    post_url = TUTORIAL_REPOSITORY + \"/\" + transaction_id + \"/clear\"\n",
    "    response = requests.post(post_url, headers={'Accept': 'text/plain'})\n",
    "    \n",
    "    print \"Sent clear request: {}\".format(response.status_code)\n",
    "    \n",
    "    # Close the transaction\n",
    "    transaction_close_url = TUTORIAL_REPOSITORY + \"/transaction/commit/\" + transaction_id\n",
    "    response = requests.post(transaction_close_url)\n",
    "\n",
    "    print \"Closing transaction: {}\".format(response.status_code)\n",
    "    \n",
    "    return\n",
    "\n",
    "def upload_file_to_stardog(filename, mimetype='application/trig'):\n",
    "    \"\"\"Well, obvious what this does... you can set the 'mimetype' to e.g. text/turtle if you want to upload a turtle file\"\"\"\n",
    "    with open(filename,'r') as f:\n",
    "        data = f.read()\n",
    "        \n",
    "    upload_to_stardog(data, mimetype=mimetype)\n",
    "    \n",
    "    return\n",
    "    \n",
    "\n",
    "def upload_to_stardog(data, mimetype='application/trig'):\n",
    "    \"\"\"Upload data to Stardog, you know this one from the previous assignments...\"\"\"\n",
    "    transaction_begin_url = TUTORIAL_REPOSITORY + \"/transaction/begin\"\n",
    "    \n",
    "    # Start the transaction, and get a transaction_id\n",
    "    response = requests.post(transaction_begin_url, headers={'Accept': 'text/plain'})\n",
    "    transaction_id = response.content\n",
    "\n",
    "    print \"Transaction id: {}\".format(transaction_id)\n",
    "    \n",
    "    # POST the data to the transaction\n",
    "    post_url = TUTORIAL_REPOSITORY + \"/\" + transaction_id + \"/add\"\n",
    "    response = requests.post(post_url, data=data, headers={'Accept': 'text/plain', 'Content-type': mimetype}, stream=True)\n",
    "\n",
    "    print \"Sent add request: {}\".format(response.status_code)\n",
    "    \n",
    "    # Close the transaction\n",
    "    transaction_close_url = TUTORIAL_REPOSITORY + \"/transaction/commit/\" + transaction_id\n",
    "    response = requests.post(transaction_close_url)\n",
    "\n",
    "    print \"Closing transaction: {}\".format(response.status_code)\n",
    "    \n",
    "    return\n",
    "\n",
    "    \n",
    "def getClasses(reasoning='true', max=None):\n",
    "    \"\"\"Get all classes from the repo, optionally with a limit of `max`\"\"\"\n",
    "    if max is None :\n",
    "        query = prefix + \"\"\"SELECT ?c WHERE {?c a owl:Class }\"\"\"\n",
    "    else :\n",
    "        query = prefix + \"\"\"SELECT ?c WHERE {?c a owl:Class } LIMIT \"\"\" + str(max)\n",
    "    \n",
    "    return [r['c']['value'] for r in runQuery(query, reasoning)]\n",
    "    \n",
    "\n",
    "def getInstances(className, reasoning='true'):\n",
    "    \"\"\"Get the instances for a class.. be sure to include < and > around its URI\"\"\"\n",
    "    query = prefix + \"\"\"\n",
    "    SELECT ?i WHERE {{?i a {} . }}\n",
    "    \"\"\".format(className)\n",
    "    \n",
    "    return [r['i']['value'] for r in runQuery(query, reasoning)]\n",
    "\n",
    "def countUsage(reasoning='true', max=None):\n",
    "    \"\"\"Count the number of occurrences of a resource. Will differ significantly if reasoning is 'false'\"\"\"\n",
    "    query = \"\"\"\n",
    "        SELECT ?resource (COUNT(?resource) as ?count) WHERE {\n",
    "            { ?resource ?p1 ?o1 . }\n",
    "            UNION\n",
    "            { ?s1 ?resource ?o2 . }\n",
    "            UNION\n",
    "            { ?s2 ?p2 ?resource . }\n",
    "        } GROUP BY ?resource ORDER BY DESC(?count)\n",
    "    \"\"\"\n",
    "    \n",
    "    results = runQuery(query, reasoning)\n",
    "    \n",
    "    index = {}\n",
    "    \n",
    "    count = 0\n",
    "    for r in results:\n",
    "        if not max is None and count > max:\n",
    "            break\n",
    "        \n",
    "        if 'resource' in r:\n",
    "            index[unicode(r['resource']['value'])] = int(r['count']['value'])\n",
    "        \n",
    "        count += 1\n",
    "    \n",
    "    return index\n",
    "\n",
    "\n",
    "def countClassUsage(reasoning='true', max=None):\n",
    "    \"\"\"Count how many (inferred) instances a class has\"\"\"\n",
    "    query = \"\"\"\n",
    "        SELECT ?class (COUNT(?resource) as ?count) WHERE {\n",
    "            ?resource a ?class . \n",
    "        } GROUP BY ?class ORDER BY DESC(?count)\n",
    "    \"\"\"\n",
    "    \n",
    "    results = runQuery(query, reasoning)\n",
    "    \n",
    "    index = {}\n",
    "    \n",
    "    count = 0\n",
    "    for r in results:\n",
    "        if not max is None and count > max:\n",
    "            break\n",
    "        \n",
    "        if 'class' in r:\n",
    "            index[unicode(r['class']['value'])] = int(r['count']['value'])\n",
    "        \n",
    "        count += 1\n",
    "    \n",
    "    return index\n",
    "\n",
    "def countUsageLocal(rdfgraph, max=None):\n",
    "    \"\"\"Count usage of a resource on a local RDFLib graph\"\"\"\n",
    "    query = \"\"\"\n",
    "        SELECT ?resource (COUNT(?resource) as ?count) WHERE {\n",
    "            { ?resource ?p1 ?o1 . }\n",
    "            UNION\n",
    "            { ?s1 ?resource ?o2 . }\n",
    "            UNION\n",
    "            { ?s2 ?p2 ?resource . }\n",
    "        } GROUP BY ?resource ORDER BY ?resource\n",
    "    \"\"\"\n",
    "    \n",
    "    results = g.query(query)\n",
    "    \n",
    "    index = {}\n",
    "    \n",
    "    count = 0\n",
    "    for r in results:\n",
    "        if not max is None and count > max:\n",
    "            break\n",
    "            \n",
    "        index[unicode(r['resource'])] = int(r['count'])\n",
    "        \n",
    "        count += 1\n",
    "    \n",
    "    return index\n",
    "    \n",
    "\n",
    "def runQuery(query, reasoning='true'):\n",
    "    \"\"\"Run a SPARQL query against the endpoint\"\"\"\n",
    "    sparql = SPARQLWrapper(endpoint)\n",
    "\n",
    "    sparql.setQuery(query)\n",
    "\n",
    "    sparql.setReturnFormat(JSON)\n",
    "    sparql.addParameter('Accept','application/sparql-results+json')\n",
    "\n",
    "    sparql.addParameter('reasoning',reasoning)\n",
    "\n",
    "    response = sparql.query().convert()\n",
    "\n",
    "    return response['results']['bindings']"
   ]
  },
  {
   "cell_type": "markdown",
   "metadata": {},
   "source": [
    "### Example analysis\n",
    "\n",
    "Upload the example files to Stardog"
   ]
  },
  {
   "cell_type": "code",
   "execution_count": null,
   "metadata": {
    "collapsed": false
   },
   "outputs": [],
   "source": [
    "upload_file_to_stardog('o1.trig')\n",
    "upload_file_to_stardog('o2.trig')\n",
    "upload_file_to_stardog('d1.trig')\n",
    "upload_file_to_stardog('d2.trig')"
   ]
  },
  {
   "cell_type": "markdown",
   "metadata": {},
   "source": [
    "Now get all classes from the repository. Select one, and use its URI to retrieve instances.\n",
    "\n",
    "(Play around with reasoning 'false' and 'true')"
   ]
  },
  {
   "cell_type": "code",
   "execution_count": null,
   "metadata": {
    "collapsed": false
   },
   "outputs": [],
   "source": [
    "getClasses(max=1000, reasoning='true')"
   ]
  },
  {
   "cell_type": "code",
   "execution_count": null,
   "metadata": {
    "collapsed": false
   },
   "outputs": [],
   "source": [
    "getInstances('<http://www.w3.org/2002/07/owl#Thing>', reasoning='true')"
   ]
  },
  {
   "cell_type": "markdown",
   "metadata": {},
   "source": [
    "### Locally\n",
    "\n",
    "Load the example files in an RDFLib graph (locally). Note that a large graph may become problematic (given memory limitations).\n",
    "\n",
    "A `ConjunctiveGraph` object allows for loading named graphs, but hides them (i.e. you don't need to think about the graphs when querying the data)."
   ]
  },
  {
   "cell_type": "code",
   "execution_count": null,
   "metadata": {
    "collapsed": false
   },
   "outputs": [],
   "source": [
    "g = ConjunctiveGraph()\n",
    "\n",
    "g += g.parse('o1.trig', format='trig')\n",
    "g += g.parse('o2.trig', format='trig')\n",
    "g += g.parse('d1.trig', format='trig')\n",
    "g += g.parse('d2.trig', format='trig')\n"
   ]
  },
  {
   "cell_type": "markdown",
   "metadata": {},
   "source": [
    "Several simple statistics. The following code uses the `index` variable. Adjust where needed (e.g. replace `index` with `index_remote`)"
   ]
  },
  {
   "cell_type": "code",
   "execution_count": null,
   "metadata": {
    "collapsed": false
   },
   "outputs": [],
   "source": [
    "index = countUsageLocal(g)"
   ]
  },
  {
   "cell_type": "code",
   "execution_count": null,
   "metadata": {
    "collapsed": false
   },
   "outputs": [],
   "source": [
    "index"
   ]
  },
  {
   "cell_type": "code",
   "execution_count": null,
   "metadata": {
    "collapsed": false
   },
   "outputs": [],
   "source": [
    "index_remote = countUsage(reasoning='false')"
   ]
  },
  {
   "cell_type": "code",
   "execution_count": null,
   "metadata": {
    "collapsed": false
   },
   "outputs": [],
   "source": [
    "index_remote"
   ]
  },
  {
   "cell_type": "code",
   "execution_count": null,
   "metadata": {
    "collapsed": true
   },
   "outputs": [],
   "source": [
    "index_classes = countClassUsage(reasoning='true')"
   ]
  },
  {
   "cell_type": "code",
   "execution_count": null,
   "metadata": {
    "collapsed": false
   },
   "outputs": [],
   "source": [
    "index_classes"
   ]
  },
  {
   "cell_type": "markdown",
   "metadata": {},
   "source": [
    "Get the frequencies for each resource, and sort by frequency value.\n",
    "\n",
    "Plot them at loglog scale"
   ]
  },
  {
   "cell_type": "code",
   "execution_count": null,
   "metadata": {
    "collapsed": false
   },
   "outputs": [],
   "source": [
    "frequencies_by_value = sorted(index.values(), reverse=True)\n",
    "\n",
    "plt.loglog(frequencies_by_value,'b-',linestyle='None', marker='.')\n",
    "plt.title(\"Frequencies rank plot\")\n",
    "plt.ylabel(\"frequency\")\n",
    "plt.xlabel(\"rank\")"
   ]
  },
  {
   "cell_type": "markdown",
   "metadata": {},
   "source": [
    "Get the frequencies for each resource, and sort by URI name (i.e. alphabetically)\n",
    "\n",
    "Plot them at loglog scale"
   ]
  },
  {
   "cell_type": "code",
   "execution_count": null,
   "metadata": {
    "collapsed": false
   },
   "outputs": [],
   "source": [
    "frequencies_by_URI = index.values()\n",
    "\n",
    "plt.loglog(frequencies_by_URI,'b-',linestyle='None', marker='.')\n",
    "plt.title(\"Frequencies by URI plot\")\n",
    "plt.ylabel(\"degree\")\n",
    "plt.xlabel(\"uri\")"
   ]
  },
  {
   "cell_type": "markdown",
   "metadata": {},
   "source": [
    "### Network Analysis\n",
    "\n",
    "Build a directed `networkx` graph from the RDF graph"
   ]
  },
  {
   "cell_type": "code",
   "execution_count": null,
   "metadata": {
    "collapsed": true
   },
   "outputs": [],
   "source": [
    "def buildNetwork(rdfgraph, query = \"\"\"SELECT * WHERE {?source ?edge ?target.}\"\"\", max=None):\n",
    "    ## Query is assumed to have a source, target and edge\n",
    "    \n",
    "    results = g.query(query)\n",
    "    \n",
    "    G = nx.DiGraph()\n",
    "    \n",
    "    count = 0\n",
    "    for r in results:\n",
    "        if not max is None and count > max:\n",
    "            break\n",
    "        \n",
    "        G.add_edge(r['source'], r['target'], {'type': r['edge']})\n",
    "        \n",
    "        count += 1\n",
    "        \n",
    "    return G\n"
   ]
  },
  {
   "cell_type": "code",
   "execution_count": null,
   "metadata": {
    "collapsed": false
   },
   "outputs": [],
   "source": [
    "G = buildNetwork(g, max=10000)"
   ]
  },
  {
   "cell_type": "markdown",
   "metadata": {},
   "source": [
    "Get the degrees for each node in the graph, and sort them from large to small"
   ]
  },
  {
   "cell_type": "code",
   "execution_count": null,
   "metadata": {
    "collapsed": false
   },
   "outputs": [],
   "source": [
    "degree_sequence=sorted(nx.degree(G).values(),reverse=True) # degree sequence\n",
    "\n",
    "# And see what it looks like...\n",
    "degree_sequence"
   ]
  },
  {
   "cell_type": "markdown",
   "metadata": {},
   "source": [
    "Plot the graph using a spring layout (warning, may be very slow for large graphs)"
   ]
  },
  {
   "cell_type": "code",
   "execution_count": null,
   "metadata": {
    "collapsed": false
   },
   "outputs": [],
   "source": [
    "# draw graph in inset\n",
    "plt.axes([1.45,1.45,1.45,1.45])\n",
    "#Gcc=sorted(nx.connected_component_subgraphs(G), key = len, reverse=True)[0]\n",
    "pos=nx.spring_layout(G)\n",
    "plt.axis('off')\n",
    "nx.draw_networkx_nodes(G,pos,node_size=50)\n",
    "nx.draw_networkx_edges(G,pos,alpha=0.4)\n",
    "\n",
    "# plt.savefig(\"graph.png\")\n",
    "plt.show()"
   ]
  },
  {
   "cell_type": "markdown",
   "metadata": {},
   "source": [
    "Plot the degrees at loglog scale"
   ]
  },
  {
   "cell_type": "code",
   "execution_count": null,
   "metadata": {
    "collapsed": false
   },
   "outputs": [],
   "source": [
    "degree_sequence=sorted(nx.degree(G).values(),reverse=True) # degree sequence\n",
    "#print \"Degree sequence\", degree_sequence\n",
    "dmax=max(degree_sequence)\n",
    "\n",
    "plt.loglog(degree_sequence,'b-',marker='o')\n",
    "plt.title(\"Degree rank plot\")\n",
    "plt.ylabel(\"degree\")\n",
    "plt.xlabel(\"rank\")"
   ]
  },
  {
   "cell_type": "markdown",
   "metadata": {},
   "source": [
    "You can also do Pagerank on the graph (have a look at the `networkx` documentation)"
   ]
  },
  {
   "cell_type": "code",
   "execution_count": null,
   "metadata": {
    "collapsed": false
   },
   "outputs": [],
   "source": [
    "nx.pagerank(G)"
   ]
  }
 ],
 "metadata": {
  "kernelspec": {
   "display_name": "Python 2",
   "language": "python",
   "name": "python2"
  },
  "language_info": {
   "codemirror_mode": {
    "name": "ipython",
    "version": 2
   },
   "file_extension": ".py",
   "mimetype": "text/x-python",
   "name": "python",
   "nbconvert_exporter": "python",
   "pygments_lexer": "ipython2",
   "version": "2.7.11"
  }
 },
 "nbformat": 4,
 "nbformat_minor": 0
}
